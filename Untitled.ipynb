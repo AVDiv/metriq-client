{
 "cells": [
  {
   "cell_type": "code",
   "execution_count": 1,
   "metadata": {},
   "outputs": [],
   "source": [
    "from paperswithcode import PapersWithCodeClient, models\n",
    "\n",
    "token = \"fe2d153aa4283b02c3cf0a52b93fca8b431230f8\"\n",
    "\n",
    "\n",
    "client = PapersWithCodeClient(token=token)"
   ]
  },
  {
   "cell_type": "code",
   "execution_count": 2,
   "metadata": {},
   "outputs": [
    {
     "data": {
      "text/plain": [
       "'triple-classification'"
      ]
     },
     "execution_count": 2,
     "metadata": {},
     "output_type": "execute_result"
    }
   ],
   "source": [
    "task = client.task_list().results[0]\n",
    "task.id"
   ]
  },
  {
   "cell_type": "code",
   "execution_count": 3,
   "metadata": {},
   "outputs": [],
   "source": [
    "datasets = client.dataset_list()"
   ]
  },
  {
   "cell_type": "code",
   "execution_count": 4,
   "metadata": {},
   "outputs": [
    {
     "data": {
      "text/plain": [
       "('rewrite', 'leitner-et-al-2020')"
      ]
     },
     "execution_count": 4,
     "metadata": {},
     "output_type": "execute_result"
    }
   ],
   "source": [
    ">>> dataset_1 = datasets.results[0]\n",
    ">>> dataset_2 = datasets.results[1]\n",
    ">>> dataset_1.id, dataset_2.id"
   ]
  },
  {
   "cell_type": "code",
   "execution_count": 5,
   "metadata": {},
   "outputs": [
    {
     "data": {
      "text/plain": [
       "'on-the-minimal-teaching-sets-of-two'"
      ]
     },
     "execution_count": 5,
     "metadata": {},
     "output_type": "execute_result"
    }
   ],
   "source": [
    ">>> paper = client.paper_list().results[0]\n",
    ">>> paper.id"
   ]
  },
  {
   "cell_type": "code",
   "execution_count": 7,
   "metadata": {},
   "outputs": [
    {
     "data": {
      "text/plain": [
       "'triple-classification-on-rewrite-8'"
      ]
     },
     "execution_count": 7,
     "metadata": {},
     "output_type": "execute_result"
    }
   ],
   "source": [
    ">>> et = client.evaluation_create(\n",
    "...     models.EvaluationTableCreateRequest(\n",
    "...         task=task.id,\n",
    "...         dataset=dataset_1.id\n",
    "...     )\n",
    "... )\n",
    ">>> et.id"
   ]
  },
  {
   "cell_type": "code",
   "execution_count": 8,
   "metadata": {},
   "outputs": [
    {
     "data": {
      "text/plain": [
       "EvaluationTable(id='triple-classification-on-rewrite-8', task='triple-classification', dataset='rewrite')"
      ]
     },
     "execution_count": 8,
     "metadata": {},
     "output_type": "execute_result"
    }
   ],
   "source": [
    ">>> client.evaluation_get(et.id)"
   ]
  },
  {
   "cell_type": "code",
   "execution_count": 10,
   "metadata": {},
   "outputs": [
    {
     "data": {
      "text/plain": [
       "EvaluationTable(id='triple-classification-on-rewrite-8', task='triple-classification', dataset='leitner-et-al-2020')"
      ]
     },
     "execution_count": 10,
     "metadata": {},
     "output_type": "execute_result"
    }
   ],
   "source": [
    ">>> et = client.evaluation_update(et.id, models.EvaluationTableUpdateRequest(\n",
    "...     dataset=dataset_2.id\n",
    "... ))\n",
    ">>> et"
   ]
  },
  {
   "cell_type": "code",
   "execution_count": null,
   "metadata": {},
   "outputs": [],
   "source": [
    "e.id"
   ]
  },
  {
   "cell_type": "code",
   "execution_count": null,
   "metadata": {},
   "outputs": [],
   "source": [
    "client.evaluation_get(e.id)"
   ]
  },
  {
   "cell_type": "code",
   "execution_count": null,
   "metadata": {},
   "outputs": [],
   "source": [
    "client.evaluation_update(e.id, models.EvaluationTableUpdateRequest(dataset=dataset1))"
   ]
  },
  {
   "cell_type": "code",
   "execution_count": null,
   "metadata": {},
   "outputs": [],
   "source": [
    "client.evaluation_delete(e.id)"
   ]
  },
  {
   "cell_type": "code",
   "execution_count": 11,
   "metadata": {},
   "outputs": [
    {
     "data": {
      "text/plain": [
       "[]"
      ]
     },
     "execution_count": 11,
     "metadata": {},
     "output_type": "execute_result"
    }
   ],
   "source": [
    "client.evaluation_metric_list(et.id)"
   ]
  },
  {
   "cell_type": "code",
   "execution_count": 12,
   "metadata": {},
   "outputs": [
    {
     "data": {
      "text/plain": [
       "Metric(id='748dccd5-0a28-432c-98ec-7ab74a127ede', name='some metric', description='Metric description', is_loss=True)"
      ]
     },
     "execution_count": 12,
     "metadata": {},
     "output_type": "execute_result"
    }
   ],
   "source": [
    ">>> m = client.evaluation_metric_add(\n",
    "...     et.id,\n",
    "...     models.MetricCreateRequest(\n",
    "...         name=\"some metric\",\n",
    "...         description=\"Metric description\",\n",
    "...         is_loss=True\n",
    "...     )\n",
    "... )\n",
    ">>> m"
   ]
  },
  {
   "cell_type": "code",
   "execution_count": 15,
   "metadata": {},
   "outputs": [
    {
     "data": {
      "text/plain": [
       "Metric(id='748dccd5-0a28-432c-98ec-7ab74a127ede', name='some metric', description='Metric description', is_loss=True)"
      ]
     },
     "execution_count": 15,
     "metadata": {},
     "output_type": "execute_result"
    }
   ],
   "source": [
    "m"
   ]
  },
  {
   "cell_type": "code",
   "execution_count": null,
   "metadata": {},
   "outputs": [],
   "source": [
    "m = _[0]"
   ]
  },
  {
   "cell_type": "code",
   "execution_count": 16,
   "metadata": {},
   "outputs": [
    {
     "data": {
      "text/plain": [
       "Metric(id='748dccd5-0a28-432c-98ec-7ab74a127ede', name='some metric', description='Metric description', is_loss=False)"
      ]
     },
     "execution_count": 16,
     "metadata": {},
     "output_type": "execute_result"
    }
   ],
   "source": [
    ">>> m = client.evaluation_metric_update(\n",
    "...     et.id,\n",
    "...     m.id,\n",
    "...     models.MetricUpdateRequest(is_loss=False)\n",
    "... )\n",
    ">>> m"
   ]
  },
  {
   "cell_type": "code",
   "execution_count": 18,
   "metadata": {},
   "outputs": [
    {
     "data": {
      "text/plain": [
       "[]"
      ]
     },
     "execution_count": 18,
     "metadata": {},
     "output_type": "execute_result"
    }
   ],
   "source": [
    ">>> client.evaluation_result_list(et.id)"
   ]
  },
  {
   "cell_type": "code",
   "execution_count": 20,
   "metadata": {},
   "outputs": [
    {
     "data": {
      "text/plain": [
       "Result(id='81cdfce5-d976-4d29-93a7-23a29118b037', best_rank=None, metrics={'some metric': '44'}, methodology='Some methodologoy', uses_additional_data=False, paper='on-the-minimal-teaching-sets-of-two', best_metric=None)"
      ]
     },
     "execution_count": 20,
     "metadata": {},
     "output_type": "execute_result"
    }
   ],
   "source": [
    ">>> r = client.evaluation_result_add(\n",
    "...     et.id,\n",
    "...     models.ResultCreateRequest(\n",
    "...         metrics={\"some metric\": '44'},\n",
    "...         methodology=\"Some methodologoy\",\n",
    "...         uses_additional_data=False,\n",
    "...         paper=paper.id                   # Optional\n",
    "...     )\n",
    "... )\n",
    ">>> r"
   ]
  },
  {
   "cell_type": "code",
   "execution_count": 21,
   "metadata": {},
   "outputs": [
    {
     "data": {
      "text/plain": [
       "Result(id='81cdfce5-d976-4d29-93a7-23a29118b037', best_rank=None, metrics={'some metric': '44'}, methodology='Some other methodologoy', uses_additional_data=True, paper='on-the-minimal-teaching-sets-of-two', best_metric=None)"
      ]
     },
     "execution_count": 21,
     "metadata": {},
     "output_type": "execute_result"
    }
   ],
   "source": [
    ">>> r = client.evaluation_result_update(\n",
    "...     et.id,\n",
    "...     r.id,   \n",
    "...     models.ResultUpdateRequest(\n",
    "...         methodology=\"Some other methodologoy\",\n",
    "...         uses_additional_data=True,\n",
    "...     )\n",
    "... )\n",
    ">>> r"
   ]
  },
  {
   "cell_type": "code",
   "execution_count": 22,
   "metadata": {},
   "outputs": [
    {
     "data": {
      "text/plain": [
       "[Result(id='81cdfce5-d976-4d29-93a7-23a29118b037', best_rank=None, metrics={'some metric': '44'}, methodology='Some other methodologoy', uses_additional_data=True, paper='on-the-minimal-teaching-sets-of-two', best_metric=None)]"
      ]
     },
     "execution_count": 22,
     "metadata": {},
     "output_type": "execute_result"
    }
   ],
   "source": [
    "client.evaluation_result_list(et.id)"
   ]
  },
  {
   "cell_type": "code",
   "execution_count": 23,
   "metadata": {},
   "outputs": [],
   "source": [
    "client.evaluation_result_delete(et.id, r.id)"
   ]
  },
  {
   "cell_type": "code",
   "execution_count": 24,
   "metadata": {},
   "outputs": [
    {
     "data": {
      "text/plain": [
       "[]"
      ]
     },
     "execution_count": 24,
     "metadata": {},
     "output_type": "execute_result"
    }
   ],
   "source": [
    "client.evaluation_result_list(et.id)"
   ]
  },
  {
   "cell_type": "code",
   "execution_count": null,
   "metadata": {},
   "outputs": [],
   "source": []
  }
 ],
 "metadata": {
  "kernelspec": {
   "display_name": "Python 3",
   "language": "python",
   "name": "python3"
  },
  "language_info": {
   "codemirror_mode": {
    "name": "ipython",
    "version": 3
   },
   "file_extension": ".py",
   "mimetype": "text/x-python",
   "name": "python",
   "nbconvert_exporter": "python",
   "pygments_lexer": "ipython3",
   "version": "3.7.7"
  }
 },
 "nbformat": 4,
 "nbformat_minor": 4
}
